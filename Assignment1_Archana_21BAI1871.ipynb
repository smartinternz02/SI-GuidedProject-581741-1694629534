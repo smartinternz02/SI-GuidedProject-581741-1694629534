{
  "nbformat": 4,
  "nbformat_minor": 0,
  "metadata": {
    "colab": {
      "provenance": []
    },
    "kernelspec": {
      "name": "python3",
      "display_name": "Python 3"
    },
    "language_info": {
      "name": "python"
    }
  },
  "cells": [
    {
      "cell_type": "markdown",
      "source": [
        "Task - 1 Create a pandas dataframe (DataFrame name as 'df') (10 observation and 5 features)"
      ],
      "metadata": {
        "id": "r3zfqngN1ZJB"
      }
    },
    {
      "cell_type": "code",
      "source": [
        "import pandas as pd\n",
        "import numpy as np\n",
        "data = {\n",
        "    'Name': ['Abhi','Priya','Pranav','Nikhil','Vaishnavi','Bhanu','Madhav','Akhila','Riya','Renu'],\n",
        "    'Age': [21,23,20,31,28,35,37,24,21,28],\n",
        "    'Gender(M/F)': ['M','F','M','M','F','M','M','F','F','F'],\n",
        "    'Score(/50)': [41,39,43,37,31,41,45,26,36,49],\n",
        "    'Result(P/F)': ['P','F','P','F','F','P','P','F','F','P']\n",
        "}\n",
        "df = pd.DataFrame(data)\n",
        "print(df)"
      ],
      "metadata": {
        "colab": {
          "base_uri": "https://localhost:8080/"
        },
        "id": "N_vehEYt1fPp",
        "outputId": "72956cef-9f1b-4bfd-de2d-78c522b12ec8"
      },
      "execution_count": 11,
      "outputs": [
        {
          "output_type": "stream",
          "name": "stdout",
          "text": [
            "        Name  Age Gender(M/F)  Score(/50) Result(P/F)\n",
            "0       Abhi   21           M          41           P\n",
            "1      Priya   23           F          39           F\n",
            "2     Pranav   20           M          43           P\n",
            "3     Nikhil   31           M          37           F\n",
            "4  Vaishnavi   28           F          31           F\n",
            "5      Bhanu   35           M          41           P\n",
            "6     Madhav   37           M          45           P\n",
            "7     Akhila   24           F          26           F\n",
            "8       Riya   21           F          36           F\n",
            "9       Renu   28           F          49           P\n"
          ]
        }
      ]
    },
    {
      "cell_type": "markdown",
      "source": [
        "Task- 2 Check the info of 'df'"
      ],
      "metadata": {
        "id": "vA358kd13rwt"
      }
    },
    {
      "cell_type": "code",
      "source": [
        "df_info = df.info()\n",
        "print(df_info)"
      ],
      "metadata": {
        "colab": {
          "base_uri": "https://localhost:8080/"
        },
        "id": "IdVoSSN53v5j",
        "outputId": "8d67eba0-2bae-4009-bc82-86fe96c97c9f"
      },
      "execution_count": 12,
      "outputs": [
        {
          "output_type": "stream",
          "name": "stdout",
          "text": [
            "<class 'pandas.core.frame.DataFrame'>\n",
            "RangeIndex: 10 entries, 0 to 9\n",
            "Data columns (total 5 columns):\n",
            " #   Column       Non-Null Count  Dtype \n",
            "---  ------       --------------  ----- \n",
            " 0   Name         10 non-null     object\n",
            " 1   Age          10 non-null     int64 \n",
            " 2   Gender(M/F)  10 non-null     object\n",
            " 3   Score(/50)   10 non-null     int64 \n",
            " 4   Result(P/F)  10 non-null     object\n",
            "dtypes: int64(2), object(3)\n",
            "memory usage: 528.0+ bytes\n",
            "None\n"
          ]
        }
      ]
    },
    {
      "cell_type": "markdown",
      "source": [
        "Task 3- Check the descriptive statistics of 'df'"
      ],
      "metadata": {
        "id": "BoNXVXF_3_vo"
      }
    },
    {
      "cell_type": "code",
      "source": [
        "print(df.shape)\n",
        "df1=df.describe()\n",
        "print(df1)"
      ],
      "metadata": {
        "colab": {
          "base_uri": "https://localhost:8080/"
        },
        "id": "lR2bfxuW4A60",
        "outputId": "5a92a9ae-f8a6-41fc-d8b7-40a72d1ba03a"
      },
      "execution_count": 13,
      "outputs": [
        {
          "output_type": "stream",
          "name": "stdout",
          "text": [
            "(10, 5)\n",
            "             Age  Score(/50)\n",
            "count  10.000000   10.000000\n",
            "mean   26.800000   38.800000\n",
            "std     6.033241    6.713171\n",
            "min    20.000000   26.000000\n",
            "25%    21.500000   36.250000\n",
            "50%    26.000000   40.000000\n",
            "75%    30.250000   42.500000\n",
            "max    37.000000   49.000000\n"
          ]
        }
      ]
    },
    {
      "cell_type": "markdown",
      "source": [
        "Task 4- Check the 4th index observation with 'loc' slicing operator."
      ],
      "metadata": {
        "id": "8Koayz8S4P20"
      }
    },
    {
      "cell_type": "code",
      "source": [
        "obv_4=df.loc[4]\n",
        "print(obv_4)"
      ],
      "metadata": {
        "colab": {
          "base_uri": "https://localhost:8080/"
        },
        "id": "tRpMWwpZ4T_f",
        "outputId": "e10f40e6-ab53-4906-cb17-0a820d1b6216"
      },
      "execution_count": 14,
      "outputs": [
        {
          "output_type": "stream",
          "name": "stdout",
          "text": [
            "Name           Vaishnavi\n",
            "Age                   28\n",
            "Gender(M/F)            F\n",
            "Score(/50)            31\n",
            "Result(P/F)            F\n",
            "Name: 4, dtype: object\n"
          ]
        }
      ]
    },
    {
      "cell_type": "markdown",
      "source": [
        "Task 5 - Check the null values in your 'df'"
      ],
      "metadata": {
        "id": "bbVxUQ-Z4jSq"
      }
    },
    {
      "cell_type": "code",
      "source": [
        "null_values = df.isnull()\n",
        "null_count = null_values.sum()\n",
        "print(null_count)"
      ],
      "metadata": {
        "colab": {
          "base_uri": "https://localhost:8080/"
        },
        "id": "Iq2DoXY_4oNd",
        "outputId": "e0d88700-8f29-4c4b-e32d-67b78f85d2f4"
      },
      "execution_count": 15,
      "outputs": [
        {
          "output_type": "stream",
          "name": "stdout",
          "text": [
            "Name           0\n",
            "Age            0\n",
            "Gender(M/F)    0\n",
            "Score(/50)     0\n",
            "Result(P/F)    0\n",
            "dtype: int64\n"
          ]
        }
      ]
    }
  ]
}